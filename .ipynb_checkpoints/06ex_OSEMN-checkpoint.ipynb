{
 "cells": [
  {
   "cell_type": "code",
   "execution_count": 2,
   "metadata": {},
   "outputs": [],
   "source": [
    "import pandas as pd\n",
    "import numpy as np#remove"
   ]
  },
  {
   "cell_type": "markdown",
   "metadata": {},
   "source": [
    "1\\. **Text files**\n",
    "\n",
    "Perform the following operations on plain `txt` files:\n",
    "\n",
    "+ create a list of integrer numbers and then save it to a text file named `data_int.txt`. Run the `cat` command to print the content of the file.\n",
    "+ create a matrix of 5x5 floats and then save it to a text file named `data_float.txt`. Use the `cat` command to print the content of the file.\n",
    "+ load the `txt` file of the previous point and convert it to a `csv` file by hand."
   ]
  },
  {
   "cell_type": "code",
   "execution_count": 18,
   "metadata": {},
   "outputs": [
    {
     "name": "stdout",
     "output_type": "stream",
     "text": [
      "[863 890 226 572 383 114 206 608  18 869 327 877 562  42 538 205 853 320\n",
      " 351 886]\n",
      "[[974.07754875 599.12133388 946.87398079 226.27657845 307.5280122 ]\n",
      " [701.69677728 696.30689003  41.35768388 501.21124485 196.35272426]\n",
      " [131.74858252 868.29502276 795.83221215  72.74548325 982.38376336]\n",
      " [600.453863   686.64819134 619.7169545  613.30594426 276.53569579]\n",
      " [148.2077763   93.86013863 743.09984522 500.4121389  563.41623814]]\n"
     ]
    }
   ],
   "source": [
    "import csv\n",
    "my_list=np.random.randint(low=0,high=1000,size=20) ##creating an array of 20 cells with values from 0 to 1000\n",
    "out_1=\"data_int.txt\" \n",
    "with open(out_1, \"w\") as out_file:\n",
    "    out_file.write(np.array2string(my_list)+\"\\n\") ##writing the list into the file\n",
    "!cat data_int.txt\n",
    "\n",
    "matrix=np.random.rand(5,5)*1000 ## the matrix has the higher value of 1000 as the previous array\n",
    "out_2=\"data_float.txt\"\n",
    "with open(out_2, \"w\") as out_file:\n",
    "    out_file.write(np.array2string(matrix)+\"\\n\") ##same procedure as before\n",
    "!cat data_float.txt\n",
    "\n",
    "out_csv = \"all_data.csv\"\n",
    "\n",
    "with open(out_1,\"r\") as input_file:  ##here we can choose which file to transfer into a csv\n",
    "    with open(out_csv, \"w\") as output_file:\n",
    "        w=csv.writer(output_file)\n",
    "        for line in csv.reader(input_file, delimiter=\" \"): ##the delimiter is a blank space\n",
    "            while(\" \" in line):\n",
    "                line.remove(\" \") ##remove that\n",
    "            for (i,j) in zip(line,range(0,len(line))): \n",
    "                line[j]=i.replace(\"[\",\"\").replace(\"]\",\"\") ##remove the square brackets and replace them with empty char\n",
    "            w.writerow(line)\n",
    "            \n",
    "            \n",
    "\n",
    "                \n",
    "    \n",
    "    \n"
   ]
  },
  {
   "cell_type": "markdown",
   "metadata": {},
   "source": [
    "2\\. **JSON files**\n",
    "\n",
    "Load the file *user_data.json*, which can be found at:\n",
    "\n",
    "- https://www.dropbox.com/s/sz5klcdpckc39hd/user_data.json\n",
    "\n",
    "and filter the data by the \"CreditCardType\" when it equals to \"American Express\". Than save the data to a new CSV file."
   ]
  },
  {
   "cell_type": "code",
   "execution_count": 19,
   "metadata": {},
   "outputs": [
    {
     "name": "stdout",
     "output_type": "stream",
     "text": [
      "--2022-11-18 10:43:55--  https://www.dropbox.com/s/sz5klcdpckc39hd/user_data.json\n",
      "Resolving www.dropbox.com (www.dropbox.com)... 162.125.69.18, 2620:100:6025:18::a27d:4512\n",
      "Connecting to www.dropbox.com (www.dropbox.com)|162.125.69.18|:443... connected.\n",
      "HTTP request sent, awaiting response... 302 Found\n",
      "Location: /s/raw/sz5klcdpckc39hd/user_data.json [following]\n",
      "--2022-11-18 10:43:55--  https://www.dropbox.com/s/raw/sz5klcdpckc39hd/user_data.json\n",
      "Reusing existing connection to www.dropbox.com:443.\n",
      "HTTP request sent, awaiting response... 302 Found\n",
      "Location: https://uc15dc6782a6e28d8c30e7c1b9b0.dl.dropboxusercontent.com/cd/0/inline/Bw9bRHFGR-WR6ji5GVWsydp-gl09egUYvgdwamGEk7Wt_AK6JXsSgFSNzaGLj9wRvS5VCzUusUTP5Ew3QbINSLSMN0vB-aQxt5ZLenyLcmoC1OrWYcNwFtAVRnYNoK7ZmKCKdvXT0aSjsTuy6Ncg9bCyvpkN9Qy528NIS7nNgoPotg/file# [following]\n",
      "--2022-11-18 10:43:56--  https://uc15dc6782a6e28d8c30e7c1b9b0.dl.dropboxusercontent.com/cd/0/inline/Bw9bRHFGR-WR6ji5GVWsydp-gl09egUYvgdwamGEk7Wt_AK6JXsSgFSNzaGLj9wRvS5VCzUusUTP5Ew3QbINSLSMN0vB-aQxt5ZLenyLcmoC1OrWYcNwFtAVRnYNoK7ZmKCKdvXT0aSjsTuy6Ncg9bCyvpkN9Qy528NIS7nNgoPotg/file\n",
      "Resolving uc15dc6782a6e28d8c30e7c1b9b0.dl.dropboxusercontent.com (uc15dc6782a6e28d8c30e7c1b9b0.dl.dropboxusercontent.com)... 162.125.69.15, 2620:100:6025:15::a27d:450f\n",
      "Connecting to uc15dc6782a6e28d8c30e7c1b9b0.dl.dropboxusercontent.com (uc15dc6782a6e28d8c30e7c1b9b0.dl.dropboxusercontent.com)|162.125.69.15|:443... connected.\n",
      "HTTP request sent, awaiting response... 200 OK\n",
      "Length: 40417 (39K) [text/plain]\n",
      "Saving to: ‘user_data.json’\n",
      "\n",
      "100%[======================================>] 40,417      --.-K/s   in 0.009s  \n",
      "\n",
      "2022-11-18 10:43:56 (4.13 MB/s) - ‘user_data.json’ saved [40417/40417]\n",
      "\n"
     ]
    }
   ],
   "source": [
    "#!wget https://www.dropbox.com/s/sz5klcdpckc39hd/user_data.json"
   ]
  },
  {
   "cell_type": "code",
   "execution_count": 31,
   "metadata": {},
   "outputs": [],
   "source": [
    "import json\n",
    "dataset = json.load(open(\"user_data.json\"))\n",
    "american_ex=[x for x in dataset if x[\"CreditCardType\"] == \"American Express\"] ##filter by credit card type\n",
    "fieldnames = ['ID', 'JobTitle', 'EmailAddress', 'FirstNameLastName','CreditCard','CreditCardType'] ##list of all field names\n",
    "with open(\"output_credit_card.csv\", \"w\",newline=\"\") as file:\n",
    "    w = csv.DictWriter(file, fieldnames=fieldnames) ##write into a csv\n",
    "    w.writeheader()\n",
    "    w.writerows(american_ex)\n"
   ]
  },
  {
   "cell_type": "markdown",
   "metadata": {},
   "source": [
    "3\\. **CSV files with Pandas**\n",
    "\n",
    "Load the file from this url:\n",
    "\n",
    "- https://www.dropbox.com/s/kgshemfgk22iy79/mushrooms_categorized.csv\n",
    "\n",
    "with Pandas. \n",
    "\n",
    "+ explore and print the DataFrame\n",
    "+ calculate, using `groupby()`, the average value of each feature, separately for each class\n",
    "+ save the file in a JSON format."
   ]
  },
  {
   "cell_type": "code",
   "execution_count": 32,
   "metadata": {},
   "outputs": [
    {
     "name": "stdout",
     "output_type": "stream",
     "text": [
      "--2022-11-18 11:10:04--  https://www.dropbox.com/s/kgshemfgk22iy79/mushrooms_categorized.csv\n",
      "Resolving www.dropbox.com (www.dropbox.com)... 162.125.69.18, 2620:100:6025:18::a27d:4512\n",
      "Connecting to www.dropbox.com (www.dropbox.com)|162.125.69.18|:443... connected.\n",
      "HTTP request sent, awaiting response... 302 Found\n",
      "Location: /s/raw/kgshemfgk22iy79/mushrooms_categorized.csv [following]\n",
      "--2022-11-18 11:10:04--  https://www.dropbox.com/s/raw/kgshemfgk22iy79/mushrooms_categorized.csv\n",
      "Reusing existing connection to www.dropbox.com:443.\n",
      "HTTP request sent, awaiting response... 302 Found\n",
      "Location: https://uc823f73ee7ead5fef816635c191.dl.dropboxusercontent.com/cd/0/inline/Bw8maPObH62IGQJPImKIIhticdYxHq6CYFqF9qz5TWBom7SQIJQZ7zygsOUy_ekK3Vow78pOmjpOy6emwEMOrvw9yEW_av0wwxc3v7cSgo5AOyUAdWVZQtBHRWwjKj5HwaWawHn0WTko2T_dnkzDjlmGnCT-cAo2_OHNXHWfcRWRzA/file# [following]\n",
      "--2022-11-18 11:10:04--  https://uc823f73ee7ead5fef816635c191.dl.dropboxusercontent.com/cd/0/inline/Bw8maPObH62IGQJPImKIIhticdYxHq6CYFqF9qz5TWBom7SQIJQZ7zygsOUy_ekK3Vow78pOmjpOy6emwEMOrvw9yEW_av0wwxc3v7cSgo5AOyUAdWVZQtBHRWwjKj5HwaWawHn0WTko2T_dnkzDjlmGnCT-cAo2_OHNXHWfcRWRzA/file\n",
      "Resolving uc823f73ee7ead5fef816635c191.dl.dropboxusercontent.com (uc823f73ee7ead5fef816635c191.dl.dropboxusercontent.com)... 162.125.69.15, 2620:100:6025:15::a27d:450f\n",
      "Connecting to uc823f73ee7ead5fef816635c191.dl.dropboxusercontent.com (uc823f73ee7ead5fef816635c191.dl.dropboxusercontent.com)|162.125.69.15|:443... connected.\n",
      "HTTP request sent, awaiting response... 200 OK\n",
      "Length: 375292 (366K) [text/plain]\n",
      "Saving to: ‘mushrooms_categorized.csv’\n",
      "\n",
      "100%[======================================>] 375,292     --.-K/s   in 0.04s   \n",
      "\n",
      "2022-11-18 11:10:05 (8.03 MB/s) - ‘mushrooms_categorized.csv’ saved [375292/375292]\n",
      "\n"
     ]
    }
   ],
   "source": [
    "#!wget https://www.dropbox.com/s/kgshemfgk22iy79/mushrooms_categorized.csv"
   ]
  },
  {
   "cell_type": "code",
   "execution_count": 36,
   "metadata": {},
   "outputs": [
    {
     "name": "stdout",
     "output_type": "stream",
     "text": [
      "The mean of the features for each class are:\n",
      "        cap-shape  cap-surface  cap-color   bruises      odor  gill-attachment  \\\n",
      "class                                                                           \n",
      "0       3.266160     1.615970   4.581749  0.653992  4.334601         0.954373   \n",
      "1       3.436159     2.055158   4.421859  0.159346  3.940756         0.995403   \n",
      "\n",
      "       gill-spacing  gill-size  gill-color  stalk-shape  ...  \\\n",
      "class                                                    ...   \n",
      "0          0.285171   0.068441    6.622624     0.615970  ...   \n",
      "1          0.028601   0.567926    2.863636     0.514811  ...   \n",
      "\n",
      "       stalk-surface-below-ring  stalk-color-above-ring  \\\n",
      "class                                                     \n",
      "0                      1.798479                6.098859   \n",
      "1                      1.394280                5.512768   \n",
      "\n",
      "       stalk-color-below-ring  veil-type  veil-color  ring-number  ring-type  \\\n",
      "class                                                                          \n",
      "0                    6.064639        0.0    1.931559     1.125475   3.007605   \n",
      "1                    5.504597        0.0    2.002043     1.009193   1.522983   \n",
      "\n",
      "       spore-print-color  population   habitat  \n",
      "class                                           \n",
      "0               3.201521    3.283270  1.148289  \n",
      "1               4.021450    4.031665  1.895812  \n",
      "\n",
      "[2 rows x 22 columns]\n"
     ]
    }
   ],
   "source": [
    "dataset = pd.read_csv(\"mushrooms_categorized.csv\")\n",
    "feature_mean=data.groupby(\"class\").mean() ##using groupby to compute the mean for each class\n",
    "print(\"The mean of the features for each class are:\\n\", feature_mean)\n",
    "import json\n",
    "feature_mean.to_json(\"mushrooms_categorized.json\",orient=\"index\") ##saving the file into a .json\n",
    "\n",
    "\n"
   ]
  },
  {
   "cell_type": "markdown",
   "metadata": {},
   "source": [
    "4\\. **Reading the credit card numbers**\n",
    "\n",
    "Get the binary file named *credit_card.dat* from this address:\n",
    "\n",
    "- https://www.dropbox.com/s/8m0syw2tkul3dap/credit_card.dat\n",
    "\n",
    "and convert the data into the real credit card number, knowing that:\n",
    "- each line corresponds to a credit card number, which consists of 16 characters (which are numbers in the 0-9 range) divided in 4 blocks, with a whitespace between each block\n",
    "- each character is written using a 6 bit binary representation (including the whitespace)\n",
    "- the final 4 bits of each line are a padding used to determine the end of the line, and can be ignored\n",
    "\n",
    "*Hint*: convert the binary numbers to the decimal representation first, and then use the `chr()` function to convert the latter to a char"
   ]
  },
  {
   "cell_type": "code",
   "execution_count": 37,
   "metadata": {},
   "outputs": [
    {
     "name": "stdout",
     "output_type": "stream",
     "text": [
      "--2022-11-18 11:18:08--  https://www.dropbox.com/s/8m0syw2tkul3dap/credit_card.dat\n",
      "Resolving www.dropbox.com (www.dropbox.com)... 162.125.69.18, 2620:100:6025:18::a27d:4512\n",
      "Connecting to www.dropbox.com (www.dropbox.com)|162.125.69.18|:443... connected.\n",
      "HTTP request sent, awaiting response... 302 Found\n",
      "Location: /s/raw/8m0syw2tkul3dap/credit_card.dat [following]\n",
      "--2022-11-18 11:18:08--  https://www.dropbox.com/s/raw/8m0syw2tkul3dap/credit_card.dat\n",
      "Reusing existing connection to www.dropbox.com:443.\n",
      "HTTP request sent, awaiting response... 302 Found\n",
      "Location: https://ucca81c11e4635f637855597e9a8.dl.dropboxusercontent.com/cd/0/inline/Bw_cppnDOAx6XYWi5nO-sZ_0-kqdthrUkhtrneB9QRsxlllrxtn8GH8dNERuhIaV5AUZ4Y5tJZxwC1dzW-EW-CR1nSZCZRu5aoX6aC8GExmxAI1qzS5F4siugA8bzYbYiWJ59M5EESxr_znl9IVP8ojkzWodKz1zSFTryClH_C5KQg/file# [following]\n",
      "--2022-11-18 11:18:09--  https://ucca81c11e4635f637855597e9a8.dl.dropboxusercontent.com/cd/0/inline/Bw_cppnDOAx6XYWi5nO-sZ_0-kqdthrUkhtrneB9QRsxlllrxtn8GH8dNERuhIaV5AUZ4Y5tJZxwC1dzW-EW-CR1nSZCZRu5aoX6aC8GExmxAI1qzS5F4siugA8bzYbYiWJ59M5EESxr_znl9IVP8ojkzWodKz1zSFTryClH_C5KQg/file\n",
      "Resolving ucca81c11e4635f637855597e9a8.dl.dropboxusercontent.com (ucca81c11e4635f637855597e9a8.dl.dropboxusercontent.com)... 162.125.69.15, 2620:100:6025:15::a27d:450f\n",
      "Connecting to ucca81c11e4635f637855597e9a8.dl.dropboxusercontent.com (ucca81c11e4635f637855597e9a8.dl.dropboxusercontent.com)|162.125.69.15|:443... connected.\n",
      "HTTP request sent, awaiting response... 302 Found\n",
      "Location: /cd/0/inline2/Bw_82SycAppjX5VGA1s2LmO8m3-n3HALZ7XVRQrlGlEPWsnWTTU8UDJZnkxtpGn4atenfqcW691H1qkPgqkPEEMo88gmujmds2_2ixseIzvgSzcdAMO2ZmqAKDixoqpJHBr8F9TWhGOmyCvow4eYnRtu4rAW5a1KzZI7rYweQ_Noy3yAm31cE7knMchFLCwf7p4i_g8d_93N4kM3RL44-qnaajNrFk_FvnWMEqrs0L_pF75LN9d3OZ8S1hORR8oMkfkAyAhVsNPcFkaz_7buiiSVrdoNqmzSYFd5W1beLB7XCrEkztUqc9vqBWu1yESSIemIvXHPOq7dVr30r4OxpikhTZR_ICPDpSORuu-dzF6orfziXDtplHUk8i3A4m4M_cncTt878zv0VBARy3_KXO9Mo4Is7pbMWPuxFGrjV87nlw/file [following]\n",
      "--2022-11-18 11:18:09--  https://ucca81c11e4635f637855597e9a8.dl.dropboxusercontent.com/cd/0/inline2/Bw_82SycAppjX5VGA1s2LmO8m3-n3HALZ7XVRQrlGlEPWsnWTTU8UDJZnkxtpGn4atenfqcW691H1qkPgqkPEEMo88gmujmds2_2ixseIzvgSzcdAMO2ZmqAKDixoqpJHBr8F9TWhGOmyCvow4eYnRtu4rAW5a1KzZI7rYweQ_Noy3yAm31cE7knMchFLCwf7p4i_g8d_93N4kM3RL44-qnaajNrFk_FvnWMEqrs0L_pF75LN9d3OZ8S1hORR8oMkfkAyAhVsNPcFkaz_7buiiSVrdoNqmzSYFd5W1beLB7XCrEkztUqc9vqBWu1yESSIemIvXHPOq7dVr30r4OxpikhTZR_ICPDpSORuu-dzF6orfziXDtplHUk8i3A4m4M_cncTt878zv0VBARy3_KXO9Mo4Is7pbMWPuxFGrjV87nlw/file\n",
      "Reusing existing connection to ucca81c11e4635f637855597e9a8.dl.dropboxusercontent.com:443.\n",
      "HTTP request sent, awaiting response... 200 OK\n",
      "Length: 5955 (5.8K) [application/x-ns-proxy-autoconfig]\n",
      "Saving to: ‘credit_card.dat’\n",
      "\n",
      "100%[======================================>] 5,955       --.-K/s   in 0s      \n",
      "\n",
      "2022-11-18 11:18:09 (843 MB/s) - ‘credit_card.dat’ saved [5955/5955]\n",
      "\n"
     ]
    }
   ],
   "source": [
    "#!wget https://www.dropbox.com/s/8m0syw2tkul3dap/credit_card.dat"
   ]
  },
  {
   "cell_type": "code",
   "execution_count": 41,
   "metadata": {},
   "outputs": [
    {
     "name": "stdout",
     "output_type": "stream",
     "text": [
      "7648 5673 3775 2271\n",
      "\n",
      "3257 8247 3354 2266\n",
      "\n",
      "2722 0001 4011 6652\n",
      "\n",
      "0661 3063 3742 3150\n",
      "\n",
      "0432 1608 1462 4742\n",
      "\n",
      "5827 2027 8785 7303\n",
      "\n",
      "5774 8528 2087 1117\n",
      "\n",
      "8140 1210 6352 2845\n",
      "\n",
      "5764 1133 7301 7100\n",
      "\n",
      "6456 1737 4126 6726\n",
      "\n",
      "1228 8631 7382 0000\n",
      "\n",
      "7051 0160 5374 3166\n",
      "\n",
      "0618 3587 1630 6376\n",
      "\n",
      "1545 5454 7444 5636\n",
      "\n",
      "6735 3116 3202 6834\n",
      "\n",
      "7287 5011 1547 8413\n",
      "\n",
      "7033 2607 3328 4200\n",
      "\n",
      "2568 5244 1874 5024\n",
      "\n",
      "1684 2253 7570 7118\n",
      "\n",
      "0672 2576 0575 6631\n",
      "\n",
      "6332 8353 8787 1340\n",
      "\n",
      "1813 3361 1175 4211\n",
      "\n",
      "2477 6450 8840 2368\n",
      "\n",
      "5512 3505 2563 1326\n",
      "\n",
      "3083 7882 0621 0025\n",
      "\n",
      "4521 5148 8045 0334\n",
      "\n",
      "7563 3654 8713 5787\n",
      "\n",
      "8324 2664 0476 5561\n",
      "\n",
      "0565 2504 7168 3510\n",
      "\n",
      "5107 5507 1767 0738\n",
      "\n",
      "2462 1821 2448 1443\n",
      "\n",
      "2788 0638 6861 6554\n",
      "\n",
      "5851 5873 5474 0547\n",
      "\n",
      "0670 1004 4013 2655\n",
      "\n",
      "5874 5506 3048 0806\n",
      "\n",
      "2805 5401 8462 1260\n",
      "\n",
      "5083 8406 6310 1862\n",
      "\n",
      "1076 1445 3013 2266\n",
      "\n",
      "8440 4804 4844 5277\n",
      "\n",
      "4758 6141 0686 1387\n",
      "\n",
      "7586 0675 0315 2568\n",
      "\n",
      "2544 1258 7432 5165\n",
      "\n",
      "3474 5023 4434 5626\n",
      "\n",
      "1410 0270 0434 5086\n",
      "\n",
      "7315 4446 1104 4215\n",
      "\n",
      "0224 7742 8300 0266\n",
      "\n",
      "0170 2700 3145 0640\n",
      "\n",
      "2006 2437 8054 1600\n",
      "\n",
      "8142 4055 1776 0026\n",
      "\n",
      "3026 7380 1241 1084\n",
      "\n",
      "\n",
      "\n"
     ]
    }
   ],
   "source": [
    "with open(\"credit_card.dat\",\"rb\") as f: \n",
    "    file_lines= f.readlines() ##reading the lines\n",
    "    for line in file_lines:\n",
    "        my_line=line.decode().replace(\"\\n\",\"\") ##avoiding \\n\n",
    "        card_num=\"\" ##empty string\n",
    "        for i in range(0,len(my_line),6):\n",
    "            char_card=my_line[i:i+6]\n",
    "            number=int(char_card,2) \n",
    "            card_num=card_num+str(chr(number)) ##procedure suggested in the hint\n",
    "        print(card_num) ## printing then the result,\n",
    "                                    "
   ]
  },
  {
   "cell_type": "markdown",
   "metadata": {},
   "source": [
    "5\\. **Write data to a binary file**\n",
    "\n",
    "a) Start from the `data/data_000637.txt` file that we have used during the previous lectures, and convert it to a binary file according to the format defined below:"
   ]
  },
  {
   "cell_type": "code",
   "execution_count": null,
   "metadata": {},
   "outputs": [],
   "source": [
    "from IPython.display import Image\n",
    "Image(\"images/data_format.png\")"
   ]
  },
  {
   "cell_type": "markdown",
   "metadata": {},
   "source": [
    "*Hints*:\n",
    "- Read the first 10 lines using Pandas\n",
    "- Iterate over the DataFrame rows\n",
    "- For every row, ``pack'' the values (features) into a single 64-bit word, according to the format specified above. Use bit-wise shifts and operators to do so.\n",
    "- Write each 64-bit word to a binary file. You can use `struct` in this way:\n",
    "```\n",
    "binary_file.write( struct.pack('<q', word) )\n",
    "```\n",
    "where `word` is the 64-bit word.\n",
    "- Close the file after completing the loop.\n",
    "\n",
    "b) Check that the binary file is correctly written by reading it with the code used in the lecture `06_OSEMN.ipynb`, and verify that the content of the `txt` and binary files is consistent.\n",
    "\n",
    "c) What is the difference of the size on disk between equivalent `txt` and binary files?"
   ]
  },
  {
   "cell_type": "code",
   "execution_count": null,
   "metadata": {},
   "outputs": [],
   "source": []
  }
 ],
 "metadata": {
  "kernelspec": {
   "display_name": "Python 3 (ipykernel)",
   "language": "python",
   "name": "python3"
  },
  "language_info": {
   "codemirror_mode": {
    "name": "ipython",
    "version": 3
   },
   "file_extension": ".py",
   "mimetype": "text/x-python",
   "name": "python",
   "nbconvert_exporter": "python",
   "pygments_lexer": "ipython3",
   "version": "3.8.12"
  }
 },
 "nbformat": 4,
 "nbformat_minor": 2
}
