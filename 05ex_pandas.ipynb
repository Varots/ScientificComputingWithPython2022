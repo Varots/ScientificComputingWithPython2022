{
 "cells": [
  {
   "cell_type": "markdown",
   "metadata": {},
   "source": [
    "1\\. **Pandas DataFrame**\n",
    "\n",
    "This exercise consists in analyzing a dataset containg timing information from a series of Time-to-Digital-Converters (TDC) implemented in a pair of FPGAs. Each measurement (i.e. each row of the input file) consists of a flag that specifies the type of message ('HEAD', which in this case is always 1), two addresses of the TDC providing the signal ('FPGA' and 'TDC_CHANNEL'), and the timing information ('ORBIT_CNT', 'BX_COUNTER', and 'TDC_MEAS'). Each TDC count corresponds to 25/30 ns, whereas a unit of BX_COUNTER corresponds to 25 ns, and the ORBIT_CNT is increased every `x` BX_COUNTER. This allows to store the time in a similar way to hours, minutes and seconds."
   ]
  },
  {
   "cell_type": "code",
   "execution_count": 1,
   "metadata": {},
   "outputs": [
    {
     "name": "stdout",
     "output_type": "stream",
     "text": [
      "--2022-11-11 14:18:49--  https://www.dropbox.com/s/xvjzaxzz3ysphme/data_000637.txt\n",
      "Resolving www.dropbox.com (www.dropbox.com)... 162.125.69.18, 2620:100:6025:18::a27d:4512\n",
      "Connecting to www.dropbox.com (www.dropbox.com)|162.125.69.18|:443... connected.\n",
      "HTTP request sent, awaiting response... 302 Found\n",
      "Location: /s/raw/xvjzaxzz3ysphme/data_000637.txt [following]\n",
      "--2022-11-11 14:18:49--  https://www.dropbox.com/s/raw/xvjzaxzz3ysphme/data_000637.txt\n",
      "Reusing existing connection to www.dropbox.com:443.\n",
      "HTTP request sent, awaiting response... 302 Found\n",
      "Location: https://uc85bd9542cdb76578580fe646f8.dl.dropboxusercontent.com/cd/0/inline/BwjbPluBdND3nNy1wl-lKPpyERLaalY2MkLfpAyJzNfyO1QY1jIWz5lMCg7nJYcpK-YOuzzJEn3_ssquUD5G64za9qk8_GvzDxBlwgAfcwk30-Y4qAQBK4jo9qFWyWLcB6co3xT1UBi_jrkgIz0539DHBger-JQw_oJQDLKj2v5b_g/file# [following]\n",
      "--2022-11-11 14:18:50--  https://uc85bd9542cdb76578580fe646f8.dl.dropboxusercontent.com/cd/0/inline/BwjbPluBdND3nNy1wl-lKPpyERLaalY2MkLfpAyJzNfyO1QY1jIWz5lMCg7nJYcpK-YOuzzJEn3_ssquUD5G64za9qk8_GvzDxBlwgAfcwk30-Y4qAQBK4jo9qFWyWLcB6co3xT1UBi_jrkgIz0539DHBger-JQw_oJQDLKj2v5b_g/file\n",
      "Resolving uc85bd9542cdb76578580fe646f8.dl.dropboxusercontent.com (uc85bd9542cdb76578580fe646f8.dl.dropboxusercontent.com)... 162.125.69.15, 2620:100:6025:15::a27d:450f\n",
      "Connecting to uc85bd9542cdb76578580fe646f8.dl.dropboxusercontent.com (uc85bd9542cdb76578580fe646f8.dl.dropboxusercontent.com)|162.125.69.15|:443... connected.\n",
      "HTTP request sent, awaiting response... 200 OK\n",
      "Length: 33179236 (32M) [text/plain]\n",
      "Saving to: ‘./data/data_000637.txt.3’\n",
      "\n",
      "100%[======================================>] 33,179,236  20.7MB/s   in 1.5s   \n",
      "\n",
      "2022-11-11 14:18:52 (20.7 MB/s) - ‘./data/data_000637.txt.3’ saved [33179236/33179236]\n",
      "\n"
     ]
    }
   ],
   "source": [
    "# If haven't downloaded it yet, please get the data file with wget\n",
    "!wget https://www.dropbox.com/s/xvjzaxzz3ysphme/data_000637.txt -P ./data/"
   ]
  },
  {
   "cell_type": "markdown",
   "metadata": {},
   "source": [
    "1\\. Create a Pandas DataFrame reading N rows of the `data/data_000637.txt` dataset. Choose N to be smaller than or equal to the maximum number of rows and larger that 10k (check the documentation)."
   ]
  },
  {
   "cell_type": "code",
   "execution_count": 2,
   "metadata": {},
   "outputs": [
    {
     "name": "stdout",
     "output_type": "stream",
     "text": [
      "      HEAD  FPGA  TDC_CHANNEL   ORBIT_CNT  BX_COUNTER  TDC_MEAS\n",
      "0        1     0          123  3869200167        2374        26\n",
      "1        1     0          124  3869200167        2374        27\n",
      "2        1     0           63  3869200167        2553        28\n",
      "3        1     0           64  3869200167        2558        19\n",
      "4        1     0           64  3869200167        2760        25\n",
      "...    ...   ...          ...         ...         ...       ...\n",
      "9995     1     0           61  3869200267         696        11\n",
      "9996     1     0           60  3869200267         701         5\n",
      "9997     1     0           59  3869200267         707        23\n",
      "9998     1     0           63  3869200267         706        15\n",
      "9999     1     0           49  3869200267         777        13\n",
      "\n",
      "[10000 rows x 6 columns]\n"
     ]
    }
   ],
   "source": [
    "import pandas as pd\n",
    "filename= \"./data/data_000637.txt\" ##setting the filename\n",
    "n=10000 \n",
    "dataset= pd.read_csv(filename,nrows=n) ##pandas function to read a .csv file\n",
    "print(dataset)\n"
   ]
  },
  {
   "cell_type": "markdown",
   "metadata": {},
   "source": [
    "2\\. Estimate the number of BX in a ORBIT (the value `x`).\n",
    "\n",
    "*Hint*: check when the BX counter reaches the maximum value before being reset to 0."
   ]
  },
  {
   "cell_type": "code",
   "execution_count": 3,
   "metadata": {},
   "outputs": [
    {
     "name": "stdout",
     "output_type": "stream",
     "text": [
      "The max of BX_COUNTER is: 3563\n"
     ]
    }
   ],
   "source": [
    "x=dataset[\"BX_COUNTER\"].max() ## accessing to the column and then applying the max() function\n",
    "print(\"The max of BX_COUNTER is:\", x)"
   ]
  },
  {
   "cell_type": "markdown",
   "metadata": {},
   "source": [
    "3\\. Create a new column with the absolute time in ns (as a combination of the other three columns with timing information) since the beginning of the data acquisition, and convert the new column to a Time Series."
   ]
  },
  {
   "cell_type": "code",
   "execution_count": 7,
   "metadata": {},
   "outputs": [
    {
     "name": "stdout",
     "output_type": "stream",
     "text": [
      "Dataset with new column:\n",
      "       HEAD  FPGA  TDC_CHANNEL   ORBIT_CNT  BX_COUNTER  TDC_MEAS     ABS_TIMES\n",
      "0        1     0          123  3869200167        2374        26  3.446490e+14\n",
      "1        1     0          124  3869200167        2374        27  3.446490e+14\n",
      "2        1     0           63  3869200167        2553        28  3.446490e+14\n",
      "3        1     0           64  3869200167        2558        19  3.446490e+14\n",
      "4        1     0           64  3869200167        2760        25  3.446490e+14\n",
      "...    ...   ...          ...         ...         ...       ...           ...\n",
      "9995     1     0           61  3869200267         696        11  3.446490e+14\n",
      "9996     1     0           60  3869200267         701         5  3.446490e+14\n",
      "9997     1     0           59  3869200267         707        23  3.446490e+14\n",
      "9998     1     0           63  3869200267         706        15  3.446490e+14\n",
      "9999     1     0           49  3869200267         777        13  3.446490e+14\n",
      "\n",
      "[10000 rows x 7 columns]\n",
      "The time series are:\n",
      " 0      1970-01-04 23:44:09.004934896\n",
      "1      1970-01-04 23:44:09.004934897\n",
      "2      1970-01-04 23:44:09.004939373\n",
      "3      1970-01-04 23:44:09.004939490\n",
      "4      1970-01-04 23:44:09.004944545\n",
      "                    ...             \n",
      "9995   1970-01-04 23:44:09.013800434\n",
      "9996   1970-01-04 23:44:09.013800554\n",
      "9997   1970-01-04 23:44:09.013800719\n",
      "9998   1970-01-04 23:44:09.013800687\n",
      "9999   1970-01-04 23:44:09.013802460\n",
      "Name: ABS_TIMES, Length: 10000, dtype: datetime64[ns]\n"
     ]
    }
   ],
   "source": [
    "absolute_times=[] ##empty list\n",
    "for i,row in dataset.iterrows():\n",
    "    time= (row[\"TDC_MEAS\"]*25/30+ row[\"BX_COUNTER\"]*25+ row[\"ORBIT_CNT\"]*x*25) ##applying the definitions\n",
    "    absolute_times.append(time) ##adding the element to the list\n",
    "dataset[\"ABS_TIMES\"]=absolute_times ## new column in the dataset\n",
    "print(\"Dataset with new column:\\n\",dataset)\n",
    "##TODO\n",
    "import datetime\n",
    "time_series=pd.to_datetime(dataset[\"ABS_TIMES\"], unit=\"ns\")\n",
    "print(\"The time series are:\\n\",time_series)"
   ]
  },
  {
   "cell_type": "markdown",
   "metadata": {},
   "source": [
    "4\\. Find out the duration of the data taking in hours, minutes and seconds, by using the features of the Time Series. Perform this check reading the whole dataset."
   ]
  },
  {
   "cell_type": "code",
   "execution_count": 5,
   "metadata": {},
   "outputs": [],
   "source": [
    "dataset= pd.read_csv(filename)"
   ]
  },
  {
   "cell_type": "markdown",
   "metadata": {},
   "source": [
    "5\\. Use the `.groupby()` method to find out the noisy channels, i.e. the TDC channels with most counts (print to screen the top 3 and the corresponding counts)"
   ]
  },
  {
   "cell_type": "code",
   "execution_count": 6,
   "metadata": {},
   "outputs": [
    {
     "name": "stdout",
     "output_type": "stream",
     "text": [
      "               HEAD    FPGA  ORBIT_CNT  BX_COUNTER  TDC_MEAS\n",
      "TDC_CHANNEL                                                 \n",
      "139          108059  108059     108059      108059    108059\n",
      "64            66020   66020      66020       66020     66020\n",
      "63            64642   64642      64642       64642     64642\n"
     ]
    }
   ],
   "source": [
    "count=dataset.groupby(\"TDC_CHANNEL\").count() ##counting the iterations of TDC channels\n",
    "n=3  \n",
    "noisy=count.sort_values(by=\"HEAD\",ascending=False).iloc[0:n] ##selecting how many channels to show\n",
    "print(noisy)"
   ]
  },
  {
   "cell_type": "markdown",
   "metadata": {},
   "source": [
    "6\\. Count the number of non-empty orbits (i.e. the number of orbits with at least one hit)."
   ]
  },
  {
   "cell_type": "code",
   "execution_count": 7,
   "metadata": {},
   "outputs": [
    {
     "name": "stdout",
     "output_type": "stream",
     "text": [
      "The non empty orbits are: 11001\n"
     ]
    }
   ],
   "source": [
    "print(\"The non empty orbits are:\",len(dataset.groupby(\"ORBIT_CNT\").count()))"
   ]
  },
  {
   "cell_type": "markdown",
   "metadata": {},
   "source": [
    "7\\. Count the number of unique orbits with at least one measurement from TDC_CHANNEL=139."
   ]
  },
  {
   "cell_type": "code",
   "execution_count": 8,
   "metadata": {},
   "outputs": [
    {
     "name": "stdout",
     "output_type": "stream",
     "text": [
      "The orbits with at least one measurament with TDC_CHANNEL=139 are: 10976\n"
     ]
    }
   ],
   "source": [
    "print(\"The orbits with at least one measurament with TDC_CHANNEL=139 are:\",len(dataset[dataset[\"TDC_CHANNEL\"]==139].groupby(\"ORBIT_CNT\").count()))"
   ]
  },
  {
   "cell_type": "markdown",
   "metadata": {},
   "source": [
    "8\\. Create two Series (one for each FPGA) that have the TDC channel as index, and the number of counts for the corresponding TDC channel as values."
   ]
  },
  {
   "cell_type": "code",
   "execution_count": null,
   "metadata": {},
   "outputs": [],
   "source": []
  },
  {
   "cell_type": "markdown",
   "metadata": {},
   "source": [
    "9\\. **Optional:** Create two histograms (one for each FPGA) that show the number of counts for each TDC channel."
   ]
  },
  {
   "cell_type": "code",
   "execution_count": null,
   "metadata": {},
   "outputs": [],
   "source": []
  }
 ],
 "metadata": {
  "kernelspec": {
   "display_name": "Python 3 (ipykernel)",
   "language": "python",
   "name": "python3"
  },
  "language_info": {
   "codemirror_mode": {
    "name": "ipython",
    "version": 3
   },
   "file_extension": ".py",
   "mimetype": "text/x-python",
   "name": "python",
   "nbconvert_exporter": "python",
   "pygments_lexer": "ipython3",
   "version": "3.8.12"
  }
 },
 "nbformat": 4,
 "nbformat_minor": 2
}
